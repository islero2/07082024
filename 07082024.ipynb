{
  "nbformat": 4,
  "nbformat_minor": 0,
  "metadata": {
    "colab": {
      "provenance": []
    },
    "kernelspec": {
      "name": "python3",
      "display_name": "Python 3"
    },
    "language_info": {
      "name": "python"
    }
  },
  "cells": [
    {
      "cell_type": "code",
      "execution_count": null,
      "metadata": {
        "colab": {
          "base_uri": "https://localhost:8080/"
        },
        "id": "Eld8DM6hpg4R",
        "outputId": "95c63694-c6ca-4777-8de4-bf8b73015b69"
      },
      "outputs": [
        {
          "output_type": "stream",
          "name": "stdout",
          "text": [
            "Hello,world\n"
          ]
        }
      ],
      "source": [
        "print(\"Hello,world\") #print ekrana çıktı veren bir koddur."
      ]
    },
    {
      "cell_type": "code",
      "source": [
        "import sys   #import python programlama dilince kütüphane eklemeye yarayan koddur.\n",
        "print(sys.version )"
      ],
      "metadata": {
        "colab": {
          "base_uri": "https://localhost:8080/"
        },
        "id": "aUvzGpKnq0Yy",
        "outputId": "32209172-66d3-4de3-bc55-a007288eca84"
      },
      "execution_count": null,
      "outputs": [
        {
          "output_type": "stream",
          "name": "stdout",
          "text": [
            "3.10.12 (main, Jul 29 2024, 16:56:48) [GCC 11.4.0]\n"
          ]
        }
      ]
    },
    {
      "cell_type": "code",
      "source": [
        "from google.colab import drive\n",
        "drive.mount('/content/drive')"
      ],
      "metadata": {
        "colab": {
          "base_uri": "https://localhost:8080/"
        },
        "id": "6qULAA9hq6HJ",
        "outputId": "9fcb726c-a84d-442a-d435-ec59ae3c5f9a"
      },
      "execution_count": null,
      "outputs": [
        {
          "output_type": "stream",
          "name": "stdout",
          "text": [
            "Drive already mounted at /content/drive; to attempt to forcibly remount, call drive.mount(\"/content/drive\", force_remount=True).\n"
          ]
        }
      ]
    },
    {
      "cell_type": "code",
      "source": [
        "import os\n",
        "os.chdir('/content/drive/My Drive/VERIYAPILARI_ISTKA')\n",
        "!pwd"
      ],
      "metadata": {
        "colab": {
          "base_uri": "https://localhost:8080/"
        },
        "id": "u4DWf0vsrPRi",
        "outputId": "3e044e79-9bab-4104-a590-10440fad0a50"
      },
      "execution_count": null,
      "outputs": [
        {
          "output_type": "stream",
          "name": "stdout",
          "text": [
            "/content/drive/My Drive/VERIYAPILARI_ISTKA\n"
          ]
        }
      ]
    },
    {
      "cell_type": "code",
      "source": [
        "#geçerli değişken tanımlaması\n",
        "degisken_1= 10\n",
        "Degisken2=20\n",
        "_degisken3=30"
      ],
      "metadata": {
        "id": "QOjSDwwWvrmy"
      },
      "execution_count": null,
      "outputs": []
    },
    {
      "cell_type": "code",
      "source": [
        "#geçersiz değişken tanımlaması\n",
        "degisken=40\n",
        "degisken-4=50"
      ],
      "metadata": {
        "colab": {
          "base_uri": "https://localhost:8080/",
          "height": 106
        },
        "id": "A_bCh-5hwDfq",
        "outputId": "010de452-b553-40f9-8305-b146ba102df1"
      },
      "execution_count": null,
      "outputs": [
        {
          "output_type": "error",
          "ename": "SyntaxError",
          "evalue": "cannot assign to expression here. Maybe you meant '==' instead of '='? (<ipython-input-9-10494471875a>, line 3)",
          "traceback": [
            "\u001b[0;36m  File \u001b[0;32m\"<ipython-input-9-10494471875a>\"\u001b[0;36m, line \u001b[0;32m3\u001b[0m\n\u001b[0;31m    degisken-4=50\u001b[0m\n\u001b[0m    ^\u001b[0m\n\u001b[0;31mSyntaxError\u001b[0m\u001b[0;31m:\u001b[0m cannot assign to expression here. Maybe you meant '==' instead of '='?\n"
          ]
        }
      ]
    },
    {
      "cell_type": "code",
      "source": [
        "#degisken tanımlama islemi\n",
        "x=5\n",
        "y=\"merhaba dünya\"\n",
        "print(x)\n",
        "print(y)\n"
      ],
      "metadata": {
        "colab": {
          "base_uri": "https://localhost:8080/"
        },
        "id": "4HgLqnuyxKP6",
        "outputId": "b65ab5b6-b4e3-4a35-8421-bf0fa9b43fb9"
      },
      "execution_count": null,
      "outputs": [
        {
          "output_type": "stream",
          "name": "stdout",
          "text": [
            "5\n",
            "merhaba dünya\n"
          ]
        }
      ]
    },
    {
      "cell_type": "code",
      "source": [
        "#integer tamsayı\n",
        "a=10\n",
        "print(type(a))"
      ],
      "metadata": {
        "colab": {
          "base_uri": "https://localhost:8080/"
        },
        "id": "qtKw-yiByRZC",
        "outputId": "05061e1c-0061-4b58-dd3c-fc60b8a16c59"
      },
      "execution_count": null,
      "outputs": [
        {
          "output_type": "stream",
          "name": "stdout",
          "text": [
            "<class 'int'>\n"
          ]
        }
      ]
    },
    {
      "cell_type": "code",
      "source": [
        "#float-ondalık sayı tanımlaması\n",
        "\n",
        "b=20.5\n",
        "print(type(b))"
      ],
      "metadata": {
        "colab": {
          "base_uri": "https://localhost:8080/"
        },
        "id": "rO9-lo2uygBh",
        "outputId": "6bd76fd8-bead-4b41-d512-b6409c1d544e"
      },
      "execution_count": null,
      "outputs": [
        {
          "output_type": "stream",
          "name": "stdout",
          "text": [
            "<class 'float'>\n"
          ]
        }
      ]
    },
    {
      "cell_type": "code",
      "source": [
        "#int'ten float'a çevrimin gerçekleştirilmesi\n",
        "x=10\n",
        "y=float(x)\n",
        "print(y,type(y))"
      ],
      "metadata": {
        "colab": {
          "base_uri": "https://localhost:8080/"
        },
        "id": "u0ELvUaQznmg",
        "outputId": "89475364-b7b7-4fbc-8797-7feca80862a4"
      },
      "execution_count": null,
      "outputs": [
        {
          "output_type": "stream",
          "name": "stdout",
          "text": [
            "10.0 <class 'float'>\n"
          ]
        }
      ]
    },
    {
      "cell_type": "code",
      "source": [
        "#string metinsel içerik\n",
        "c=\"python programlama\"\n",
        "print(type(c))"
      ],
      "metadata": {
        "colab": {
          "base_uri": "https://localhost:8080/"
        },
        "id": "E26mCdDm6KPA",
        "outputId": "68c5925a-6b4c-434c-c88c-fab0b46329dc"
      },
      "execution_count": null,
      "outputs": [
        {
          "output_type": "stream",
          "name": "stdout",
          "text": [
            "<class 'str'>\n"
          ]
        }
      ]
    },
    {
      "cell_type": "code",
      "source": [
        "#boolean (true-false) doğru yanlış tanımlaması\n",
        "\n",
        "d=True\n",
        "e=False\n",
        "print(d)\n",
        "print(type(e))"
      ],
      "metadata": {
        "colab": {
          "base_uri": "https://localhost:8080/"
        },
        "id": "SdWlgtp468Oo",
        "outputId": "f127931a-c8ae-49b5-ab57-e3b3bfda1c7f"
      },
      "execution_count": null,
      "outputs": [
        {
          "output_type": "stream",
          "name": "stdout",
          "text": [
            "True\n",
            "<class 'bool'>\n"
          ]
        }
      ]
    },
    {
      "cell_type": "code",
      "source": [
        "#list-liste tanımlaması\n",
        "my_list= [1,2,3,4,5]\n",
        "print(type(my_list))\n",
        "print(my_list)\n"
      ],
      "metadata": {
        "colab": {
          "base_uri": "https://localhost:8080/"
        },
        "id": "u38tUKnG9z5_",
        "outputId": "fc31f852-dd6e-4e30-b192-65a53fcacab9"
      },
      "execution_count": null,
      "outputs": [
        {
          "output_type": "stream",
          "name": "stdout",
          "text": [
            "<class 'list'>\n",
            "[1, 2, 3, 4, 5]\n"
          ]
        }
      ]
    },
    {
      "cell_type": "code",
      "source": [
        "#tuple -deemet tanımlaması\n",
        "my_tuple=(1,2,3,4,5)\n",
        "print(type(my_tuple))\n",
        "print(my_tuple)"
      ],
      "metadata": {
        "colab": {
          "base_uri": "https://localhost:8080/"
        },
        "id": "AISdKgFE-oHQ",
        "outputId": "be93aad6-c088-4cb2-9497-4541446880d9"
      },
      "execution_count": null,
      "outputs": [
        {
          "output_type": "stream",
          "name": "stdout",
          "text": [
            "<class 'tuple'>\n",
            "(1, 2, 3, 4, 5)\n"
          ]
        }
      ]
    },
    {
      "cell_type": "code",
      "source": [
        "#dictionary sözlük örneği öğrenilerin notlarını tutatn not uygulaması\n",
        "notlar={\n",
        "    \"Ali\":85,\n",
        "    \"Veli\":90,\n",
        "    \"Ayse\":78\n",
        "}\n",
        "notlar[\"fatma\"]=92 #yeni öğrenci ekleme\n",
        "notlar[\"Ali\"]= 88 #bir öğrencinin notşlarını güncelleme\n",
        "print(notlar)"
      ],
      "metadata": {
        "colab": {
          "base_uri": "https://localhost:8080/"
        },
        "id": "whkFEgFWACKm",
        "outputId": "baec2566-8c3e-4631-e999-b49a00f37c58"
      },
      "execution_count": null,
      "outputs": [
        {
          "output_type": "stream",
          "name": "stdout",
          "text": [
            "{'Ali': 88, 'Veli': 90, 'Ayse': 78, 'fatma': 92}\n"
          ]
        }
      ]
    },
    {
      "cell_type": "code",
      "source": [
        "print(notlar.keys())\n",
        "print(notlar.values())\n",
        "print(notlar.items())"
      ],
      "metadata": {
        "colab": {
          "base_uri": "https://localhost:8080/"
        },
        "id": "rSWde0PIDxkM",
        "outputId": "b82173b1-731f-4bf4-98aa-15ac21e103db"
      },
      "execution_count": null,
      "outputs": [
        {
          "output_type": "stream",
          "name": "stdout",
          "text": [
            "dict_keys(['Ali', 'Veli', 'Ayse', 'fatma'])\n",
            "dict_values([88, 90, 78, 92])\n",
            "dict_items([('Ali', 88), ('Veli', 90), ('Ayse', 78), ('fatma', 92)])\n"
          ]
        }
      ]
    },
    {
      "cell_type": "code",
      "source": [
        "#set- küme örneği\n",
        "kodyazanlar={\"Ahmet\",\"Mehmet\",\"Ayse\"}\n",
        "kodyazmayanlar={\"Ayse\",\"Fatma\",\"Veli\"}\n",
        "#kafasına göre takılanlar\n",
        "ortak=kodyazanlar.intersection(kodyazmayanlar)\n",
        "print(\"kafasına göre takılan çğrenilerin listesi:\", ortak)\n",
        "\n",
        "#etkimlikte kod çalışması yapmayan öğrencilein tespiti\n",
        "kod_yazmayanlar=kodyazmayanlar.difference(kodyazanlar)\n",
        "print(\"kod çalışması yapmanan ögrenci listesi:\", kod_yazmayanlar)\n",
        "\n",
        "#yazılım Eti,ğiminin öğrenci imza listesi\n",
        "imza_listesi=kodyazanlar.union(kodyazamayanlar)\n",
        "print(\"etkinlik katılımcıları:\",imza_listesi)\n"
      ],
      "metadata": {
        "colab": {
          "base_uri": "https://localhost:8080/"
        },
        "id": "TjjGDzhADwB2",
        "outputId": "c3a0604f-49fd-4f6b-ad33-84e8932caa17"
      },
      "execution_count": null,
      "outputs": [
        {
          "output_type": "stream",
          "name": "stdout",
          "text": [
            "kafasına göre takılan çğrenilerin listesi: {'Ayse'}\n",
            "kod çalışması yapmanan ögrenci listesi: {'Veli', 'Fatma'}\n",
            "etkinlik katılımcıları: {'Ayse', 'Veli', 'Ahmet', 'Mehmet', 'Fatma'}\n"
          ]
        }
      ]
    },
    {
      "cell_type": "code",
      "source": [
        "giris=input(\"bir sayı girin: \")\n",
        "try:\n",
        "  num= float(giris)\n",
        "  print(f\"girilen sayı:{num},tipi:{type(num)},\",abs(num))\n",
        "except ValueError:\n",
        "  print(\"geçersiz veri girdiniz.\")"
      ],
      "metadata": {
        "colab": {
          "base_uri": "https://localhost:8080/"
        },
        "id": "dQ2F66BaLaR9",
        "outputId": "9897e93d-7efa-472d-bbb8-82b468ffd049"
      },
      "execution_count": null,
      "outputs": [
        {
          "output_type": "stream",
          "name": "stdout",
          "text": [
            "bir sayı girin: 12\n",
            "girilen sayı:12.0,tipi:<class 'float'>, 12.0\n"
          ]
        }
      ]
    }
  ]
}